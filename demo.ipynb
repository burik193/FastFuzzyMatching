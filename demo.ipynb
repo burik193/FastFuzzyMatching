{
 "cells": [
  {
   "cell_type": "code",
   "execution_count": 1,
   "metadata": {
    "collapsed": true
   },
   "outputs": [],
   "source": [
    "from pathlib import Path\n",
    "from fuzzyMatcher.matcher import FuzzyMatcher\n",
    "import pandas as pd\n",
    "import os"
   ]
  },
  {
   "cell_type": "code",
   "execution_count": 2,
   "outputs": [],
   "source": [
    "root = Path(os.getcwd())"
   ],
   "metadata": {
    "collapsed": false
   }
  },
  {
   "cell_type": "markdown",
   "source": [
    "### Preprocessing"
   ],
   "metadata": {
    "collapsed": false
   }
  },
  {
   "cell_type": "code",
   "execution_count": 2,
   "outputs": [],
   "source": [
    "lhs = pd.read_excel('dcc_data_set3.xlsx', sheet_name='categories')"
   ],
   "metadata": {
    "collapsed": false
   }
  },
  {
   "cell_type": "code",
   "execution_count": 3,
   "outputs": [],
   "source": [
    "lhs['registrantFirstName'] = lhs['registrantFirstName'].astype(str)\n",
    "lhs['registrantLastName'] = lhs['registrantLastName'].astype(str)"
   ],
   "metadata": {
    "collapsed": false
   }
  },
  {
   "cell_type": "code",
   "execution_count": 4,
   "outputs": [],
   "source": [
    "lhs['registrantFirstName'].astype(str).fillna('', inplace=True)\n",
    "lhs['registrantLastName'].astype(str).fillna('', inplace=True)"
   ],
   "metadata": {
    "collapsed": false
   }
  },
  {
   "cell_type": "code",
   "execution_count": 5,
   "outputs": [],
   "source": [
    "lhs['Full_name'] = lhs['registrantFirstName'] + ' ' + lhs['registrantLastName'] # Dataset 87816 x 44 - 10.777 distinct names"
   ],
   "metadata": {
    "collapsed": false
   }
  },
  {
   "cell_type": "code",
   "execution_count": 14,
   "outputs": [],
   "source": [
    "lhs = lhs[lhs['registrantCountry'].isin(['Brazil', 'Algeria', 'Germany', 'France', 'Saudi Arabia'])]"
   ],
   "metadata": {
    "collapsed": false
   }
  },
  {
   "cell_type": "code",
   "execution_count": 6,
   "outputs": [],
   "source": [
    "lhs.to_csv('dcc_data_set3.csv')"
   ],
   "metadata": {
    "collapsed": false
   }
  },
  {
   "cell_type": "code",
   "execution_count": 3,
   "outputs": [],
   "source": [
    "rhs = pd.read_csv('email_emea.csv')"
   ],
   "metadata": {
    "collapsed": false
   }
  },
  {
   "cell_type": "code",
   "execution_count": 4,
   "outputs": [],
   "source": [
    "rhs['full_name'] = rhs['first_name'] + ' ' + rhs['last_name']"
   ],
   "metadata": {
    "collapsed": false
   }
  },
  {
   "cell_type": "code",
   "execution_count": 5,
   "outputs": [],
   "source": [
    "rhs.to_csv('email_emea.csv')"
   ],
   "metadata": {
    "collapsed": false
   }
  },
  {
   "cell_type": "code",
   "execution_count": 6,
   "outputs": [],
   "source": [
    "lhs = root.joinpath('dcc_data_set3.csv') # Dataset 87816 x 44 - 10.777 distinct names\n",
    "rhs = root.joinpath('email_emea.csv') # Dataset 3.642.896 x 27"
   ],
   "metadata": {
    "collapsed": false
   }
  },
  {
   "cell_type": "code",
   "execution_count": 9,
   "outputs": [
    {
     "name": "stderr",
     "output_type": "stream",
     "text": [
      "C:\\Users\\M302242\\AppData\\Local\\Temp\\ipykernel_27192\\323462146.py:1: DtypeWarning: Columns (18,19) have mixed types. Specify dtype option on import or set low_memory=False.\n",
      "  lhs_df = pd.read_csv(lhs)\n"
     ]
    }
   ],
   "source": [
    "lhs_df = pd.read_csv(lhs)\n",
    "rhs_df = pd.read_csv(rhs)"
   ],
   "metadata": {
    "collapsed": false
   }
  },
  {
   "cell_type": "code",
   "execution_count": 40,
   "outputs": [
    {
     "data": {
      "text/plain": "       Unnamed: 0                   person_email  email_used_times  \\\n52931       52931  gabert@kinderwunschsachsen.de                 1   \n\n                  account first_name last_name gender primary_country  \\\n52931  0012o00002XqOv8AAF     Astrid    Gabert      F              DE   \n\n      merck_specialty             specialty_1  status      full_name  \n52931             NaN  Fertility/Reproductive  Active  Astrid Gabert  ",
      "text/html": "<div>\n<style scoped>\n    .dataframe tbody tr th:only-of-type {\n        vertical-align: middle;\n    }\n\n    .dataframe tbody tr th {\n        vertical-align: top;\n    }\n\n    .dataframe thead th {\n        text-align: right;\n    }\n</style>\n<table border=\"1\" class=\"dataframe\">\n  <thead>\n    <tr style=\"text-align: right;\">\n      <th></th>\n      <th>Unnamed: 0</th>\n      <th>person_email</th>\n      <th>email_used_times</th>\n      <th>account</th>\n      <th>first_name</th>\n      <th>last_name</th>\n      <th>gender</th>\n      <th>primary_country</th>\n      <th>merck_specialty</th>\n      <th>specialty_1</th>\n      <th>status</th>\n      <th>full_name</th>\n    </tr>\n  </thead>\n  <tbody>\n    <tr>\n      <th>52931</th>\n      <td>52931</td>\n      <td>gabert@kinderwunschsachsen.de</td>\n      <td>1</td>\n      <td>0012o00002XqOv8AAF</td>\n      <td>Astrid</td>\n      <td>Gabert</td>\n      <td>F</td>\n      <td>DE</td>\n      <td>NaN</td>\n      <td>Fertility/Reproductive</td>\n      <td>Active</td>\n      <td>Astrid Gabert</td>\n    </tr>\n  </tbody>\n</table>\n</div>"
     },
     "execution_count": 40,
     "metadata": {},
     "output_type": "execute_result"
    }
   ],
   "source": [
    "rhs_df[rhs_df['account'] == '0012o00002XqOv8AAF']"
   ],
   "metadata": {
    "collapsed": false
   }
  },
  {
   "cell_type": "code",
   "execution_count": 10,
   "outputs": [],
   "source": [
    "merged = rhs_df.merge(lhs_df, left_on='full_name', right_on='Full_name')"
   ],
   "metadata": {
    "collapsed": false
   }
  },
  {
   "cell_type": "code",
   "execution_count": 12,
   "outputs": [
    {
     "data": {
      "text/plain": "      Unnamed: 0_x                         person_email  email_used_times  \\\n0               57                  lazebnayatm@mail.ru                 1   \n15             144                 dinara.agl@gmail.com                 1   \n31             685              nawel_belboula@yahoo.fr                 1   \n40             914                mohdelsayed@yahoo.com                 1   \n41             951                  contact@bouhafs.net                 1   \n...            ...                                  ...               ...   \n4991        176032             alejandro.aldape@sims.ie                 1   \n4992        176199  mutz@kinderwunsch-potsdamerplatz.de                 1   \n4993        176889                    llill@novavita.ee                 1   \n4994        178068         aivar.ehrenberg@kliinikum.ee                 1   \n5017        178069                 lviirmaa@novavita.ee                 1   \n\n                 account      first_name        last_name gender  \\\n0     0012o00002mLFTNAA4         Татьяна         Лазебная      F   \n15    0012o00002mLFJSAA4          Динара         Аглямова      F   \n31    0012o00002zz6ZWAAY           Nawel         Belboula      F   \n40    0012o00002XMXqWAAX         Mohamed          Elsayed      M   \n41    0012o00002zz8I1AAI  Mustapha Nazim          Bouhafs      M   \n...                  ...             ...              ...    ...   \n4991  0012o00002gddXSAAY       Alejandro  Aldape Arellano      M   \n4992  0012o00002XhjMLAAZ            Anja             Mutz      F   \n4993  0012o00002WW5Q4AAL            Liis             Lill      F   \n4994  0012o00002WW4vHAAT           Aivar        Ehrenberg      M   \n5017  0012o00002WW5FvAAL           Liisa          Viirmaa      F   \n\n     primary_country   merck_specialty               specialty_1  ...  \\\n0                 RU  Reproductologist   Obstetrics & Gynecology  ...   \n15                RU  Reproductologist   Obstetrics & Gynecology  ...   \n31                DZ               NaN               Gynaecology  ...   \n40                KW      Embryologist                Embryology  ...   \n41                DZ               NaN               Gynaecology  ...   \n...              ...               ...                       ...  ...   \n4991              IE               NaN     Reproductive Medicine  ...   \n4992              DE               NaN    Fertility/Reproductive  ...   \n4993              EE               NaN  Obstetrics & Gynaecology  ...   \n4994              EE               NaN  Obstetrics & Gynaecology  ...   \n5017              EE               NaN  Obstetrics & Gynaecology  ...   \n\n                                               eventUrl isTestRecord  \\\n0     https://fertility-congresses.merckgroup.com/e/...        False   \n15    https://fertility-congresses.merckgroup.com/e/...        False   \n31    https://fertility-congresses.merckgroup.com/e/...        False   \n40    https://fertility-congresses.merckgroup.com/e/...        False   \n41                                                  NaN        False   \n...                                                 ...          ...   \n4991                                                NaN        False   \n4992  https://fertility-congresses.merckgroup.com/e/...        False   \n4993  https://fertility-congresses.merckgroup.com/e/...        False   \n4994  https://fertility-congresses.merckgroup.com/e/...        False   \n5017  https://fertility-congresses.merckgroup.com/e/...        False   \n\n      __KEY_root tech for calc DCC reg tech for calc Registration  \\\n0              1              0.200000                        0.0   \n15             1              0.200000                        0.0   \n31             1              0.111111                        0.0   \n40             1              1.000000                        1.0   \n41             1              1.000000                        0.0   \n...          ...                   ...                        ...   \n4991           1              1.000000                        0.0   \n4992           1              1.000000                        0.0   \n4993           1              1.000000                        1.0   \n4994           1              0.100000                        0.1   \n5017           1              1.000000                        1.0   \n\n     tech for calc Participated online only   \\\n0                                        0.0   \n15                                       0.0   \n31                                       0.0   \n40                                       0.0   \n41                                       0.0   \n...                                      ...   \n4991                                     0.0   \n4992                                     0.0   \n4993                                     1.0   \n4994                                     0.0   \n5017                                     1.0   \n\n      tech for calc Participated offline only  \\\n0                                         0.0   \n15                                        0.0   \n31                                        0.0   \n40                                        0.0   \n41                                        0.0   \n...                                       ...   \n4991                                      0.0   \n4992                                      0.0   \n4993                                      0.0   \n4994                                      0.0   \n5017                                      0.0   \n\n      tech for calc Participated online and offline  is popular  \\\n0                                               0.0           1   \n15                                              0.0           0   \n31                                              0.0           0   \n40                                              0.0           0   \n41                                              0.0           0   \n...                                             ...         ...   \n4991                                            0.0           0   \n4992                                            0.0           1   \n4993                                            0.0           1   \n4994                                            0.0           1   \n5017                                            0.0           1   \n\n                      Full_name  \n0              Татьяна Лазебная  \n15              Динара Аглямова  \n31               Nawel Belboula  \n40              Mohamed Elsayed  \n41       Mustapha Nazim Bouhafs  \n...                         ...  \n4991  Alejandro Aldape Arellano  \n4992                  Anja Mutz  \n4993                  Liis Lill  \n4994            Aivar Ehrenberg  \n5017              Liisa Viirmaa  \n\n[509 rows x 56 columns]",
      "text/html": "<div>\n<style scoped>\n    .dataframe tbody tr th:only-of-type {\n        vertical-align: middle;\n    }\n\n    .dataframe tbody tr th {\n        vertical-align: top;\n    }\n\n    .dataframe thead th {\n        text-align: right;\n    }\n</style>\n<table border=\"1\" class=\"dataframe\">\n  <thead>\n    <tr style=\"text-align: right;\">\n      <th></th>\n      <th>Unnamed: 0_x</th>\n      <th>person_email</th>\n      <th>email_used_times</th>\n      <th>account</th>\n      <th>first_name</th>\n      <th>last_name</th>\n      <th>gender</th>\n      <th>primary_country</th>\n      <th>merck_specialty</th>\n      <th>specialty_1</th>\n      <th>...</th>\n      <th>eventUrl</th>\n      <th>isTestRecord</th>\n      <th>__KEY_root</th>\n      <th>tech for calc DCC reg</th>\n      <th>tech for calc Registration</th>\n      <th>tech for calc Participated online only</th>\n      <th>tech for calc Participated offline only</th>\n      <th>tech for calc Participated online and offline</th>\n      <th>is popular</th>\n      <th>Full_name</th>\n    </tr>\n  </thead>\n  <tbody>\n    <tr>\n      <th>0</th>\n      <td>57</td>\n      <td>lazebnayatm@mail.ru</td>\n      <td>1</td>\n      <td>0012o00002mLFTNAA4</td>\n      <td>Татьяна</td>\n      <td>Лазебная</td>\n      <td>F</td>\n      <td>RU</td>\n      <td>Reproductologist</td>\n      <td>Obstetrics &amp; Gynecology</td>\n      <td>...</td>\n      <td>https://fertility-congresses.merckgroup.com/e/...</td>\n      <td>False</td>\n      <td>1</td>\n      <td>0.200000</td>\n      <td>0.0</td>\n      <td>0.0</td>\n      <td>0.0</td>\n      <td>0.0</td>\n      <td>1</td>\n      <td>Татьяна Лазебная</td>\n    </tr>\n    <tr>\n      <th>15</th>\n      <td>144</td>\n      <td>dinara.agl@gmail.com</td>\n      <td>1</td>\n      <td>0012o00002mLFJSAA4</td>\n      <td>Динара</td>\n      <td>Аглямова</td>\n      <td>F</td>\n      <td>RU</td>\n      <td>Reproductologist</td>\n      <td>Obstetrics &amp; Gynecology</td>\n      <td>...</td>\n      <td>https://fertility-congresses.merckgroup.com/e/...</td>\n      <td>False</td>\n      <td>1</td>\n      <td>0.200000</td>\n      <td>0.0</td>\n      <td>0.0</td>\n      <td>0.0</td>\n      <td>0.0</td>\n      <td>0</td>\n      <td>Динара Аглямова</td>\n    </tr>\n    <tr>\n      <th>31</th>\n      <td>685</td>\n      <td>nawel_belboula@yahoo.fr</td>\n      <td>1</td>\n      <td>0012o00002zz6ZWAAY</td>\n      <td>Nawel</td>\n      <td>Belboula</td>\n      <td>F</td>\n      <td>DZ</td>\n      <td>NaN</td>\n      <td>Gynaecology</td>\n      <td>...</td>\n      <td>https://fertility-congresses.merckgroup.com/e/...</td>\n      <td>False</td>\n      <td>1</td>\n      <td>0.111111</td>\n      <td>0.0</td>\n      <td>0.0</td>\n      <td>0.0</td>\n      <td>0.0</td>\n      <td>0</td>\n      <td>Nawel Belboula</td>\n    </tr>\n    <tr>\n      <th>40</th>\n      <td>914</td>\n      <td>mohdelsayed@yahoo.com</td>\n      <td>1</td>\n      <td>0012o00002XMXqWAAX</td>\n      <td>Mohamed</td>\n      <td>Elsayed</td>\n      <td>M</td>\n      <td>KW</td>\n      <td>Embryologist</td>\n      <td>Embryology</td>\n      <td>...</td>\n      <td>https://fertility-congresses.merckgroup.com/e/...</td>\n      <td>False</td>\n      <td>1</td>\n      <td>1.000000</td>\n      <td>1.0</td>\n      <td>0.0</td>\n      <td>0.0</td>\n      <td>0.0</td>\n      <td>0</td>\n      <td>Mohamed Elsayed</td>\n    </tr>\n    <tr>\n      <th>41</th>\n      <td>951</td>\n      <td>contact@bouhafs.net</td>\n      <td>1</td>\n      <td>0012o00002zz8I1AAI</td>\n      <td>Mustapha Nazim</td>\n      <td>Bouhafs</td>\n      <td>M</td>\n      <td>DZ</td>\n      <td>NaN</td>\n      <td>Gynaecology</td>\n      <td>...</td>\n      <td>NaN</td>\n      <td>False</td>\n      <td>1</td>\n      <td>1.000000</td>\n      <td>0.0</td>\n      <td>0.0</td>\n      <td>0.0</td>\n      <td>0.0</td>\n      <td>0</td>\n      <td>Mustapha Nazim Bouhafs</td>\n    </tr>\n    <tr>\n      <th>...</th>\n      <td>...</td>\n      <td>...</td>\n      <td>...</td>\n      <td>...</td>\n      <td>...</td>\n      <td>...</td>\n      <td>...</td>\n      <td>...</td>\n      <td>...</td>\n      <td>...</td>\n      <td>...</td>\n      <td>...</td>\n      <td>...</td>\n      <td>...</td>\n      <td>...</td>\n      <td>...</td>\n      <td>...</td>\n      <td>...</td>\n      <td>...</td>\n      <td>...</td>\n      <td>...</td>\n    </tr>\n    <tr>\n      <th>4991</th>\n      <td>176032</td>\n      <td>alejandro.aldape@sims.ie</td>\n      <td>1</td>\n      <td>0012o00002gddXSAAY</td>\n      <td>Alejandro</td>\n      <td>Aldape Arellano</td>\n      <td>M</td>\n      <td>IE</td>\n      <td>NaN</td>\n      <td>Reproductive Medicine</td>\n      <td>...</td>\n      <td>NaN</td>\n      <td>False</td>\n      <td>1</td>\n      <td>1.000000</td>\n      <td>0.0</td>\n      <td>0.0</td>\n      <td>0.0</td>\n      <td>0.0</td>\n      <td>0</td>\n      <td>Alejandro Aldape Arellano</td>\n    </tr>\n    <tr>\n      <th>4992</th>\n      <td>176199</td>\n      <td>mutz@kinderwunsch-potsdamerplatz.de</td>\n      <td>1</td>\n      <td>0012o00002XhjMLAAZ</td>\n      <td>Anja</td>\n      <td>Mutz</td>\n      <td>F</td>\n      <td>DE</td>\n      <td>NaN</td>\n      <td>Fertility/Reproductive</td>\n      <td>...</td>\n      <td>https://fertility-congresses.merckgroup.com/e/...</td>\n      <td>False</td>\n      <td>1</td>\n      <td>1.000000</td>\n      <td>0.0</td>\n      <td>0.0</td>\n      <td>0.0</td>\n      <td>0.0</td>\n      <td>1</td>\n      <td>Anja Mutz</td>\n    </tr>\n    <tr>\n      <th>4993</th>\n      <td>176889</td>\n      <td>llill@novavita.ee</td>\n      <td>1</td>\n      <td>0012o00002WW5Q4AAL</td>\n      <td>Liis</td>\n      <td>Lill</td>\n      <td>F</td>\n      <td>EE</td>\n      <td>NaN</td>\n      <td>Obstetrics &amp; Gynaecology</td>\n      <td>...</td>\n      <td>https://fertility-congresses.merckgroup.com/e/...</td>\n      <td>False</td>\n      <td>1</td>\n      <td>1.000000</td>\n      <td>1.0</td>\n      <td>1.0</td>\n      <td>0.0</td>\n      <td>0.0</td>\n      <td>1</td>\n      <td>Liis Lill</td>\n    </tr>\n    <tr>\n      <th>4994</th>\n      <td>178068</td>\n      <td>aivar.ehrenberg@kliinikum.ee</td>\n      <td>1</td>\n      <td>0012o00002WW4vHAAT</td>\n      <td>Aivar</td>\n      <td>Ehrenberg</td>\n      <td>M</td>\n      <td>EE</td>\n      <td>NaN</td>\n      <td>Obstetrics &amp; Gynaecology</td>\n      <td>...</td>\n      <td>https://fertility-congresses.merckgroup.com/e/...</td>\n      <td>False</td>\n      <td>1</td>\n      <td>0.100000</td>\n      <td>0.1</td>\n      <td>0.0</td>\n      <td>0.0</td>\n      <td>0.0</td>\n      <td>1</td>\n      <td>Aivar Ehrenberg</td>\n    </tr>\n    <tr>\n      <th>5017</th>\n      <td>178069</td>\n      <td>lviirmaa@novavita.ee</td>\n      <td>1</td>\n      <td>0012o00002WW5FvAAL</td>\n      <td>Liisa</td>\n      <td>Viirmaa</td>\n      <td>F</td>\n      <td>EE</td>\n      <td>NaN</td>\n      <td>Obstetrics &amp; Gynaecology</td>\n      <td>...</td>\n      <td>https://fertility-congresses.merckgroup.com/e/...</td>\n      <td>False</td>\n      <td>1</td>\n      <td>1.000000</td>\n      <td>1.0</td>\n      <td>1.0</td>\n      <td>0.0</td>\n      <td>0.0</td>\n      <td>1</td>\n      <td>Liisa Viirmaa</td>\n    </tr>\n  </tbody>\n</table>\n<p>509 rows × 56 columns</p>\n</div>"
     },
     "execution_count": 12,
     "metadata": {},
     "output_type": "execute_result"
    }
   ],
   "source": [
    "merged.drop_duplicates(subset=['account'])"
   ],
   "metadata": {
    "collapsed": false
   }
  },
  {
   "cell_type": "code",
   "execution_count": 15,
   "outputs": [],
   "source": [
    "lhs_df = lhs_df[~lhs_df['Full_name'].isin(merged['Full_name'])]"
   ],
   "metadata": {
    "collapsed": false
   }
  },
  {
   "cell_type": "code",
   "execution_count": 17,
   "outputs": [],
   "source": [
    "lhs_df.to_csv('dcc_data_set3_not_merged_to_emea.csv')"
   ],
   "metadata": {
    "collapsed": false
   }
  },
  {
   "cell_type": "code",
   "execution_count": 18,
   "outputs": [],
   "source": [
    "lhs = root.joinpath('dcc_data_set3_not_merged_to_emea.csv')"
   ],
   "metadata": {
    "collapsed": false
   }
  },
  {
   "cell_type": "code",
   "execution_count": 28,
   "outputs": [],
   "source": [
    "account = rhs_df.loc[match['rhs_index']]['account']"
   ],
   "metadata": {
    "collapsed": false
   }
  },
  {
   "cell_type": "code",
   "execution_count": 19,
   "outputs": [],
   "source": [
    "M = FuzzyMatcher(lhs=lhs, rhs=rhs, left_on='Full_name', right_on='full_name', verbose=True)"
   ],
   "metadata": {
    "collapsed": false
   }
  },
  {
   "cell_type": "code",
   "execution_count": 20,
   "outputs": [
    {
     "name": "stdout",
     "output_type": "stream",
     "text": [
      "Shape of LHS: (10232,)\n",
      "Performing fuzzy matching...\n",
      "[##################################################]100.0%: 10232 of 10232\n",
      "Time taken: 4344.45 seconds.\n",
      "\n"
     ]
    }
   ],
   "source": [
    "match = M.merge(deep=True, max_matches=3)"
   ],
   "metadata": {
    "collapsed": false
   }
  },
  {
   "cell_type": "code",
   "execution_count": 35,
   "outputs": [],
   "source": [
    "match.drop(columns=['veeva'], inplace=True)"
   ],
   "metadata": {
    "collapsed": false
   }
  },
  {
   "cell_type": "code",
   "execution_count": 37,
   "outputs": [],
   "source": [
    "match.insert(0, 'veeva_id', list(account))"
   ],
   "metadata": {
    "collapsed": false
   }
  },
  {
   "cell_type": "code",
   "execution_count": 38,
   "outputs": [],
   "source": [
    "match.to_excel('Fertility_matching_email_emea.xlsx')"
   ],
   "metadata": {
    "collapsed": false
   }
  },
  {
   "cell_type": "code",
   "execution_count": 24,
   "outputs": [
    {
     "data": {
      "text/plain": "              lhs_name                  rhs_name      score  rhs_index\n0        astrid verest             astrid gabert  76.923077      52931\n1        astrid verest             astrid lievre  76.923077     115494\n2        astrid verest               david veres  75.000000      57342\n0   audrey francinetti                 audrey uk  80.000000     153166\n1   audrey francinetti                audrey tau  75.000000     163976\n..                 ...                       ...        ...        ...\n1               pa pak              paula pavlek  66.666667      63740\n2               pa pak                jan špaček  62.500000      48637\n0       plamen kasabov             roland kassab  66.666667     129891\n1       plamen kasabov  plamen nickolov paraskov  63.157895       6151\n2       plamen kasabov           prevlin kasaven  62.068966      89001\n\n[30696 rows x 4 columns]",
      "text/html": "<div>\n<style scoped>\n    .dataframe tbody tr th:only-of-type {\n        vertical-align: middle;\n    }\n\n    .dataframe tbody tr th {\n        vertical-align: top;\n    }\n\n    .dataframe thead th {\n        text-align: right;\n    }\n</style>\n<table border=\"1\" class=\"dataframe\">\n  <thead>\n    <tr style=\"text-align: right;\">\n      <th></th>\n      <th>lhs_name</th>\n      <th>rhs_name</th>\n      <th>score</th>\n      <th>rhs_index</th>\n    </tr>\n  </thead>\n  <tbody>\n    <tr>\n      <th>0</th>\n      <td>astrid verest</td>\n      <td>astrid gabert</td>\n      <td>76.923077</td>\n      <td>52931</td>\n    </tr>\n    <tr>\n      <th>1</th>\n      <td>astrid verest</td>\n      <td>astrid lievre</td>\n      <td>76.923077</td>\n      <td>115494</td>\n    </tr>\n    <tr>\n      <th>2</th>\n      <td>astrid verest</td>\n      <td>david veres</td>\n      <td>75.000000</td>\n      <td>57342</td>\n    </tr>\n    <tr>\n      <th>0</th>\n      <td>audrey francinetti</td>\n      <td>audrey uk</td>\n      <td>80.000000</td>\n      <td>153166</td>\n    </tr>\n    <tr>\n      <th>1</th>\n      <td>audrey francinetti</td>\n      <td>audrey tau</td>\n      <td>75.000000</td>\n      <td>163976</td>\n    </tr>\n    <tr>\n      <th>...</th>\n      <td>...</td>\n      <td>...</td>\n      <td>...</td>\n      <td>...</td>\n    </tr>\n    <tr>\n      <th>1</th>\n      <td>pa pak</td>\n      <td>paula pavlek</td>\n      <td>66.666667</td>\n      <td>63740</td>\n    </tr>\n    <tr>\n      <th>2</th>\n      <td>pa pak</td>\n      <td>jan špaček</td>\n      <td>62.500000</td>\n      <td>48637</td>\n    </tr>\n    <tr>\n      <th>0</th>\n      <td>plamen kasabov</td>\n      <td>roland kassab</td>\n      <td>66.666667</td>\n      <td>129891</td>\n    </tr>\n    <tr>\n      <th>1</th>\n      <td>plamen kasabov</td>\n      <td>plamen nickolov paraskov</td>\n      <td>63.157895</td>\n      <td>6151</td>\n    </tr>\n    <tr>\n      <th>2</th>\n      <td>plamen kasabov</td>\n      <td>prevlin kasaven</td>\n      <td>62.068966</td>\n      <td>89001</td>\n    </tr>\n  </tbody>\n</table>\n<p>30696 rows × 4 columns</p>\n</div>"
     },
     "execution_count": 24,
     "metadata": {},
     "output_type": "execute_result"
    }
   ],
   "source": [],
   "metadata": {
    "collapsed": false
   }
  },
  {
   "cell_type": "code",
   "execution_count": 52,
   "outputs": [
    {
     "data": {
      "text/plain": "0.3496993987975952"
     },
     "execution_count": 52,
     "metadata": {},
     "output_type": "execute_result"
    }
   ],
   "source": [
    "698/1996"
   ],
   "metadata": {
    "collapsed": false
   }
  },
  {
   "cell_type": "code",
   "execution_count": 53,
   "outputs": [
    {
     "data": {
      "text/plain": "0.3997995991983968"
     },
     "execution_count": 53,
     "metadata": {},
     "output_type": "execute_result"
    }
   ],
   "source": [
    "798/1996"
   ],
   "metadata": {
    "collapsed": false
   }
  },
  {
   "cell_type": "code",
   "execution_count": 51,
   "outputs": [
    {
     "data": {
      "text/plain": "798"
     },
     "execution_count": 51,
     "metadata": {},
     "output_type": "execute_result"
    }
   ],
   "source": [
    "1426 - 628"
   ],
   "metadata": {
    "collapsed": false
   }
  },
  {
   "cell_type": "code",
   "execution_count": 6,
   "outputs": [],
   "source": [
    "import numpy as np"
   ],
   "metadata": {
    "collapsed": false
   }
  },
  {
   "cell_type": "code",
   "execution_count": 9,
   "outputs": [
    {
     "data": {
      "text/plain": "12.579745625409124"
     },
     "execution_count": 9,
     "metadata": {},
     "output_type": "execute_result"
    }
   ],
   "source": [
    "np.linalg.norm([1, 2, 3, 0.5, 12])"
   ],
   "metadata": {
    "collapsed": false
   }
  },
  {
   "cell_type": "code",
   "execution_count": null,
   "outputs": [],
   "source": [
    "match.to_excel('produced_match.xlsx')"
   ],
   "metadata": {
    "collapsed": false
   }
  },
  {
   "cell_type": "code",
   "execution_count": 10,
   "outputs": [],
   "source": [
    "def normalized(a, axis=-1, order=2):\n",
    "    l2 = np.atleast_1d(np.linalg.norm(a, order, axis))\n",
    "    l2[l2==0] = 1\n",
    "    return a / np.expand_dims(l2, axis)"
   ],
   "metadata": {
    "collapsed": false
   }
  },
  {
   "cell_type": "code",
   "execution_count": 15,
   "outputs": [
    {
     "data": {
      "text/plain": "array([[0.07949286, 0.15898573, 0.23847859, 0.03974643, 0.95391436]])"
     },
     "execution_count": 15,
     "metadata": {},
     "output_type": "execute_result"
    }
   ],
   "source": [
    "normalized((pd.Series([1, 2, 3, 0.5, 12]) * 10).values)"
   ],
   "metadata": {
    "collapsed": false
   }
  },
  {
   "cell_type": "code",
   "execution_count": null,
   "outputs": [],
   "source": [
    "pd.Series()"
   ],
   "metadata": {
    "collapsed": false
   }
  }
 ],
 "metadata": {
  "kernelspec": {
   "display_name": "Python 3",
   "language": "python",
   "name": "python3"
  },
  "language_info": {
   "codemirror_mode": {
    "name": "ipython",
    "version": 2
   },
   "file_extension": ".py",
   "mimetype": "text/x-python",
   "name": "python",
   "nbconvert_exporter": "python",
   "pygments_lexer": "ipython2",
   "version": "2.7.6"
  }
 },
 "nbformat": 4,
 "nbformat_minor": 0
}
