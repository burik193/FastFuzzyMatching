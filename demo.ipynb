{
 "cells": [
  {
   "cell_type": "code",
   "execution_count": 1,
   "metadata": {
    "collapsed": true
   },
   "outputs": [],
   "source": [
    "from pathlib import Path\n",
    "from fuzzyMatcher.matcher import FuzzyMatcher\n",
    "import pandas as pd\n",
    "import os"
   ]
  },
  {
   "cell_type": "code",
   "execution_count": 3,
   "outputs": [],
   "source": [
    "root = Path(os.getcwd())"
   ],
   "metadata": {
    "collapsed": false
   }
  },
  {
   "cell_type": "code",
   "execution_count": 7,
   "outputs": [],
   "source": [
    "lhs = pd.read_excel('dcc_data_set3.xlsx', sheet_name='categories')"
   ],
   "metadata": {
    "collapsed": false
   }
  },
  {
   "cell_type": "code",
   "execution_count": 8,
   "outputs": [
    {
     "data": {
      "text/plain": "      is event empty?                    short name  \\\n86638             NaN  fertility-academe-conference   \n65451             NaN            academe_latam_2022   \n1748              NaN                         eshre   \n34904             NaN                         eshre   \n71851             NaN                apac_life_2022   \n35888             NaN                         eshre   \n66640             NaN            academe_latam_2022   \n72149             NaN                           NaN   \n77693             NaN               merck-eshre-hub   \n19797             NaN                         eshre   \n\n                                                Category  \\\n86638    DCC event registration and Webinar registration   \n65451                             DCC event registration   \n1748                              DCC event registration   \n34904  DCC event registration and Webinar registratio...   \n71851    DCC event registration and Webinar registration   \n35888  DCC event registration and Webinar registratio...   \n66640                             DCC event registration   \n72149                             DCC event registration   \n77693    DCC event registration and Webinar registration   \n19797  DCC event registration and Webinar registratio...   \n\n       DCC event registration  Webinar registration  Participation  Live  \\\n86638                       1                     1              0     0   \n65451                       1                     0              0     0   \n1748                        1                     0              0     0   \n34904                       1                     1              1     0   \n71851                       1                     1              0     0   \n35888                       1                     1              1     0   \n66640                       1                     0              0     0   \n72149                       1                     0              0     0   \n77693                       1                     1              0     0   \n19797                       1                     1              1     0   \n\n       Ondemand  Live + Ondemand  eventId  ... zoomMeetingId  \\\n86638         0                0     1097  ...  9.171565e+10   \n65451         0                0     1030  ...  9.771821e+10   \n1748          0                0        2  ...  9.202766e+10   \n34904         1                0        2  ...  9.185709e+10   \n71851         0                0     1086  ...  9.589899e+10   \n35888         1                0        2  ...  9.202766e+10   \n66640         0                0     1030  ...  9.705248e+10   \n72149         0                0        0  ...           NaN   \n77693         0                0     1036  ...  9.710632e+10   \n19797         1                0        2  ...  9.202766e+10   \n\n                                                eventUrl isTestRecord  \\\n86638  https://fertility-congresses.merckgroup.com/e/...        False   \n65451  https://fertility-congresses.merckgroup.com/e/...        False   \n1748   https://fertility-congresses.merckgroup.com/e/...        False   \n34904  https://fertility-congresses.merckgroup.com/e/...        False   \n71851  https://fertility-congresses.merckgroup.com/e/...        False   \n35888  https://fertility-congresses.merckgroup.com/e/...         True   \n66640  https://fertility-congresses.merckgroup.com/e/...        False   \n72149                                                NaN        False   \n77693  https://fertility-congresses.merckgroup.com/e/...         True   \n19797  https://fertility-congresses.merckgroup.com/e/...        False   \n\n      __KEY_root  tech for calc DCC reg tech for calc Registration  \\\n86638          1               0.166667                   0.166667   \n65451          1               0.111111                   0.000000   \n1748           1               0.100000                   0.000000   \n34904          1               0.100000                   0.100000   \n71851          1               0.083333                   0.083333   \n35888          1               0.050000                   0.050000   \n66640          1               0.111111                   0.000000   \n72149          1               1.000000                   0.000000   \n77693          1               0.200000                   0.200000   \n19797          1               0.050000                   0.050000   \n\n      tech for calc Participated online only   \\\n86638                                     0.0   \n65451                                     0.0   \n1748                                      0.0   \n34904                                     0.0   \n71851                                     0.0   \n35888                                     0.0   \n66640                                     0.0   \n72149                                     0.0   \n77693                                     0.0   \n19797                                     0.0   \n\n      tech for calc Participated offline only  \\\n86638                                    0.00   \n65451                                    0.00   \n1748                                     0.00   \n34904                                    0.10   \n71851                                    0.00   \n35888                                    0.05   \n66640                                    0.00   \n72149                                    0.00   \n77693                                    0.00   \n19797                                    0.05   \n\n      tech for calc Participated online and offline is popular  \n86638                                           0.0          1  \n65451                                           0.0          1  \n1748                                            0.0          1  \n34904                                           0.0          1  \n71851                                           0.0          1  \n35888                                           0.0          1  \n66640                                           0.0          1  \n72149                                           0.0          0  \n77693                                           0.0          1  \n19797                                           0.0          1  \n\n[10 rows x 42 columns]",
      "text/html": "<div>\n<style scoped>\n    .dataframe tbody tr th:only-of-type {\n        vertical-align: middle;\n    }\n\n    .dataframe tbody tr th {\n        vertical-align: top;\n    }\n\n    .dataframe thead th {\n        text-align: right;\n    }\n</style>\n<table border=\"1\" class=\"dataframe\">\n  <thead>\n    <tr style=\"text-align: right;\">\n      <th></th>\n      <th>is event empty?</th>\n      <th>short name</th>\n      <th>Category</th>\n      <th>DCC event registration</th>\n      <th>Webinar registration</th>\n      <th>Participation</th>\n      <th>Live</th>\n      <th>Ondemand</th>\n      <th>Live + Ondemand</th>\n      <th>eventId</th>\n      <th>...</th>\n      <th>zoomMeetingId</th>\n      <th>eventUrl</th>\n      <th>isTestRecord</th>\n      <th>__KEY_root</th>\n      <th>tech for calc DCC reg</th>\n      <th>tech for calc Registration</th>\n      <th>tech for calc Participated online only</th>\n      <th>tech for calc Participated offline only</th>\n      <th>tech for calc Participated online and offline</th>\n      <th>is popular</th>\n    </tr>\n  </thead>\n  <tbody>\n    <tr>\n      <th>86638</th>\n      <td>NaN</td>\n      <td>fertility-academe-conference</td>\n      <td>DCC event registration and Webinar registration</td>\n      <td>1</td>\n      <td>1</td>\n      <td>0</td>\n      <td>0</td>\n      <td>0</td>\n      <td>0</td>\n      <td>1097</td>\n      <td>...</td>\n      <td>9.171565e+10</td>\n      <td>https://fertility-congresses.merckgroup.com/e/...</td>\n      <td>False</td>\n      <td>1</td>\n      <td>0.166667</td>\n      <td>0.166667</td>\n      <td>0.0</td>\n      <td>0.00</td>\n      <td>0.0</td>\n      <td>1</td>\n    </tr>\n    <tr>\n      <th>65451</th>\n      <td>NaN</td>\n      <td>academe_latam_2022</td>\n      <td>DCC event registration</td>\n      <td>1</td>\n      <td>0</td>\n      <td>0</td>\n      <td>0</td>\n      <td>0</td>\n      <td>0</td>\n      <td>1030</td>\n      <td>...</td>\n      <td>9.771821e+10</td>\n      <td>https://fertility-congresses.merckgroup.com/e/...</td>\n      <td>False</td>\n      <td>1</td>\n      <td>0.111111</td>\n      <td>0.000000</td>\n      <td>0.0</td>\n      <td>0.00</td>\n      <td>0.0</td>\n      <td>1</td>\n    </tr>\n    <tr>\n      <th>1748</th>\n      <td>NaN</td>\n      <td>eshre</td>\n      <td>DCC event registration</td>\n      <td>1</td>\n      <td>0</td>\n      <td>0</td>\n      <td>0</td>\n      <td>0</td>\n      <td>0</td>\n      <td>2</td>\n      <td>...</td>\n      <td>9.202766e+10</td>\n      <td>https://fertility-congresses.merckgroup.com/e/...</td>\n      <td>False</td>\n      <td>1</td>\n      <td>0.100000</td>\n      <td>0.000000</td>\n      <td>0.0</td>\n      <td>0.00</td>\n      <td>0.0</td>\n      <td>1</td>\n    </tr>\n    <tr>\n      <th>34904</th>\n      <td>NaN</td>\n      <td>eshre</td>\n      <td>DCC event registration and Webinar registratio...</td>\n      <td>1</td>\n      <td>1</td>\n      <td>1</td>\n      <td>0</td>\n      <td>1</td>\n      <td>0</td>\n      <td>2</td>\n      <td>...</td>\n      <td>9.185709e+10</td>\n      <td>https://fertility-congresses.merckgroup.com/e/...</td>\n      <td>False</td>\n      <td>1</td>\n      <td>0.100000</td>\n      <td>0.100000</td>\n      <td>0.0</td>\n      <td>0.10</td>\n      <td>0.0</td>\n      <td>1</td>\n    </tr>\n    <tr>\n      <th>71851</th>\n      <td>NaN</td>\n      <td>apac_life_2022</td>\n      <td>DCC event registration and Webinar registration</td>\n      <td>1</td>\n      <td>1</td>\n      <td>0</td>\n      <td>0</td>\n      <td>0</td>\n      <td>0</td>\n      <td>1086</td>\n      <td>...</td>\n      <td>9.589899e+10</td>\n      <td>https://fertility-congresses.merckgroup.com/e/...</td>\n      <td>False</td>\n      <td>1</td>\n      <td>0.083333</td>\n      <td>0.083333</td>\n      <td>0.0</td>\n      <td>0.00</td>\n      <td>0.0</td>\n      <td>1</td>\n    </tr>\n    <tr>\n      <th>35888</th>\n      <td>NaN</td>\n      <td>eshre</td>\n      <td>DCC event registration and Webinar registratio...</td>\n      <td>1</td>\n      <td>1</td>\n      <td>1</td>\n      <td>0</td>\n      <td>1</td>\n      <td>0</td>\n      <td>2</td>\n      <td>...</td>\n      <td>9.202766e+10</td>\n      <td>https://fertility-congresses.merckgroup.com/e/...</td>\n      <td>True</td>\n      <td>1</td>\n      <td>0.050000</td>\n      <td>0.050000</td>\n      <td>0.0</td>\n      <td>0.05</td>\n      <td>0.0</td>\n      <td>1</td>\n    </tr>\n    <tr>\n      <th>66640</th>\n      <td>NaN</td>\n      <td>academe_latam_2022</td>\n      <td>DCC event registration</td>\n      <td>1</td>\n      <td>0</td>\n      <td>0</td>\n      <td>0</td>\n      <td>0</td>\n      <td>0</td>\n      <td>1030</td>\n      <td>...</td>\n      <td>9.705248e+10</td>\n      <td>https://fertility-congresses.merckgroup.com/e/...</td>\n      <td>False</td>\n      <td>1</td>\n      <td>0.111111</td>\n      <td>0.000000</td>\n      <td>0.0</td>\n      <td>0.00</td>\n      <td>0.0</td>\n      <td>1</td>\n    </tr>\n    <tr>\n      <th>72149</th>\n      <td>NaN</td>\n      <td>NaN</td>\n      <td>DCC event registration</td>\n      <td>1</td>\n      <td>0</td>\n      <td>0</td>\n      <td>0</td>\n      <td>0</td>\n      <td>0</td>\n      <td>0</td>\n      <td>...</td>\n      <td>NaN</td>\n      <td>NaN</td>\n      <td>False</td>\n      <td>1</td>\n      <td>1.000000</td>\n      <td>0.000000</td>\n      <td>0.0</td>\n      <td>0.00</td>\n      <td>0.0</td>\n      <td>0</td>\n    </tr>\n    <tr>\n      <th>77693</th>\n      <td>NaN</td>\n      <td>merck-eshre-hub</td>\n      <td>DCC event registration and Webinar registration</td>\n      <td>1</td>\n      <td>1</td>\n      <td>0</td>\n      <td>0</td>\n      <td>0</td>\n      <td>0</td>\n      <td>1036</td>\n      <td>...</td>\n      <td>9.710632e+10</td>\n      <td>https://fertility-congresses.merckgroup.com/e/...</td>\n      <td>True</td>\n      <td>1</td>\n      <td>0.200000</td>\n      <td>0.200000</td>\n      <td>0.0</td>\n      <td>0.00</td>\n      <td>0.0</td>\n      <td>1</td>\n    </tr>\n    <tr>\n      <th>19797</th>\n      <td>NaN</td>\n      <td>eshre</td>\n      <td>DCC event registration and Webinar registratio...</td>\n      <td>1</td>\n      <td>1</td>\n      <td>1</td>\n      <td>0</td>\n      <td>1</td>\n      <td>0</td>\n      <td>2</td>\n      <td>...</td>\n      <td>9.202766e+10</td>\n      <td>https://fertility-congresses.merckgroup.com/e/...</td>\n      <td>False</td>\n      <td>1</td>\n      <td>0.050000</td>\n      <td>0.050000</td>\n      <td>0.0</td>\n      <td>0.05</td>\n      <td>0.0</td>\n      <td>1</td>\n    </tr>\n  </tbody>\n</table>\n<p>10 rows × 42 columns</p>\n</div>"
     },
     "execution_count": 8,
     "metadata": {},
     "output_type": "execute_result"
    }
   ],
   "source": [
    "lhs.sample(10)"
   ],
   "metadata": {
    "collapsed": false
   }
  },
  {
   "cell_type": "code",
   "execution_count": 9,
   "outputs": [],
   "source": [
    "lhs['registrantFirstName'] = lhs['registrantFirstName'].astype(str)\n",
    "lhs['registrantLastName'] = lhs['registrantLastName'].astype(str)"
   ],
   "metadata": {
    "collapsed": false
   }
  },
  {
   "cell_type": "code",
   "execution_count": 10,
   "outputs": [],
   "source": [
    "lhs['registrantFirstName'].astype(str).fillna('', inplace=True)\n",
    "lhs['registrantLastName'].astype(str).fillna('', inplace=True)"
   ],
   "metadata": {
    "collapsed": false
   }
  },
  {
   "cell_type": "code",
   "execution_count": 11,
   "outputs": [],
   "source": [
    "lhs['Full_name'] = lhs['registrantFirstName'] + ' ' + lhs['registrantLastName'] # Dataset 87816 x 44 - 10.777 distinct names"
   ],
   "metadata": {
    "collapsed": false
   }
  },
  {
   "cell_type": "code",
   "execution_count": 12,
   "outputs": [],
   "source": [
    "lhs[-100:].to_csv('dcc_data_set3_participants.csv')"
   ],
   "metadata": {
    "collapsed": false
   }
  },
  {
   "cell_type": "code",
   "execution_count": 13,
   "outputs": [],
   "source": [
    "lhs = root.joinpath('dcc_data_set3_participants.csv') # Dataset 87816 x 44 - 10.777 distinct names\n",
    "rhs = root.joinpath('d_account_all_updated.csv') # Dataset 3.642.896 x 27"
   ],
   "metadata": {
    "collapsed": false
   }
  },
  {
   "cell_type": "markdown",
   "source": [
    "Computational effort: 3.642.896 x 100 = 364.289.600 comparisons"
   ],
   "metadata": {
    "collapsed": false
   }
  },
  {
   "cell_type": "code",
   "execution_count": 14,
   "outputs": [],
   "source": [
    "M = FuzzyMatcher(lhs=lhs, rhs=rhs, left_on='Full_name', right_on='Account', verbose=True)"
   ],
   "metadata": {
    "collapsed": false
   }
  },
  {
   "cell_type": "code",
   "execution_count": null,
   "outputs": [
    {
     "name": "stdout",
     "output_type": "stream",
     "text": [
      "Shape of LHS: (97,)\n",
      "Performing fuzzy matching...\n",
      "[######--------------------------------------------]11.34%: 11 of 97"
     ]
    }
   ],
   "source": [
    "match = M.merge(deep=True)"
   ],
   "metadata": {
    "collapsed": false,
    "pycharm": {
     "is_executing": true
    }
   }
  },
  {
   "cell_type": "code",
   "execution_count": 44,
   "outputs": [
    {
     "data": {
      "text/plain": "                         rhs_name       score  rhs_index              lhs_name\n0                   Rumen Kasabov   81.481481      25122        Plamen Kasabov\n1                            PAPA   80.000000     251725                Pa Pak\n2                    LYDIE JEANNE   78.260870      68503           Jennie Yiew\n3            Somchart Tonseamgsom   95.000000      27572  Somchart Tonseangsom\n4                         Dai Van  100.000000      26336               Dai Van\n..                            ...         ...        ...                   ...\n122                          King  100.000000       3349   Susan King-Barnardo\n123  BASSEM MAHMUD ALI MOHD YASIN  100.000000      81734            Ali Mahmud\n124                     IMAN CHAN   88.888889     123371             Ian Chang\n125                        Adrian  100.000000     212195       Adrian Setiawan\n126                     Bibia Dif   75.000000      39983               Bibi Pi\n\n[127 rows x 4 columns]",
      "text/html": "<div>\n<style scoped>\n    .dataframe tbody tr th:only-of-type {\n        vertical-align: middle;\n    }\n\n    .dataframe tbody tr th {\n        vertical-align: top;\n    }\n\n    .dataframe thead th {\n        text-align: right;\n    }\n</style>\n<table border=\"1\" class=\"dataframe\">\n  <thead>\n    <tr style=\"text-align: right;\">\n      <th></th>\n      <th>rhs_name</th>\n      <th>score</th>\n      <th>rhs_index</th>\n      <th>lhs_name</th>\n    </tr>\n  </thead>\n  <tbody>\n    <tr>\n      <th>0</th>\n      <td>Rumen Kasabov</td>\n      <td>81.481481</td>\n      <td>25122</td>\n      <td>Plamen Kasabov</td>\n    </tr>\n    <tr>\n      <th>1</th>\n      <td>PAPA</td>\n      <td>80.000000</td>\n      <td>251725</td>\n      <td>Pa Pak</td>\n    </tr>\n    <tr>\n      <th>2</th>\n      <td>LYDIE JEANNE</td>\n      <td>78.260870</td>\n      <td>68503</td>\n      <td>Jennie Yiew</td>\n    </tr>\n    <tr>\n      <th>3</th>\n      <td>Somchart Tonseamgsom</td>\n      <td>95.000000</td>\n      <td>27572</td>\n      <td>Somchart Tonseangsom</td>\n    </tr>\n    <tr>\n      <th>4</th>\n      <td>Dai Van</td>\n      <td>100.000000</td>\n      <td>26336</td>\n      <td>Dai Van</td>\n    </tr>\n    <tr>\n      <th>...</th>\n      <td>...</td>\n      <td>...</td>\n      <td>...</td>\n      <td>...</td>\n    </tr>\n    <tr>\n      <th>122</th>\n      <td>King</td>\n      <td>100.000000</td>\n      <td>3349</td>\n      <td>Susan King-Barnardo</td>\n    </tr>\n    <tr>\n      <th>123</th>\n      <td>BASSEM MAHMUD ALI MOHD YASIN</td>\n      <td>100.000000</td>\n      <td>81734</td>\n      <td>Ali Mahmud</td>\n    </tr>\n    <tr>\n      <th>124</th>\n      <td>IMAN CHAN</td>\n      <td>88.888889</td>\n      <td>123371</td>\n      <td>Ian Chang</td>\n    </tr>\n    <tr>\n      <th>125</th>\n      <td>Adrian</td>\n      <td>100.000000</td>\n      <td>212195</td>\n      <td>Adrian Setiawan</td>\n    </tr>\n    <tr>\n      <th>126</th>\n      <td>Bibia Dif</td>\n      <td>75.000000</td>\n      <td>39983</td>\n      <td>Bibi Pi</td>\n    </tr>\n  </tbody>\n</table>\n<p>127 rows × 4 columns</p>\n</div>"
     },
     "execution_count": 44,
     "metadata": {},
     "output_type": "execute_result"
    }
   ],
   "source": [
    "match"
   ],
   "metadata": {
    "collapsed": false
   }
  },
  {
   "cell_type": "code",
   "execution_count": null,
   "outputs": [],
   "source": [
    "match.to_excel('produced_match.xlsx')"
   ],
   "metadata": {
    "collapsed": false
   }
  },
  {
   "cell_type": "code",
   "execution_count": null,
   "outputs": [],
   "source": [],
   "metadata": {
    "collapsed": false
   }
  }
 ],
 "metadata": {
  "kernelspec": {
   "display_name": "Python 3",
   "language": "python",
   "name": "python3"
  },
  "language_info": {
   "codemirror_mode": {
    "name": "ipython",
    "version": 2
   },
   "file_extension": ".py",
   "mimetype": "text/x-python",
   "name": "python",
   "nbconvert_exporter": "python",
   "pygments_lexer": "ipython2",
   "version": "2.7.6"
  }
 },
 "nbformat": 4,
 "nbformat_minor": 0
}
